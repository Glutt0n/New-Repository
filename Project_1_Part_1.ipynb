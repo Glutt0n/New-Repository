{
  "nbformat": 4,
  "nbformat_minor": 0,
  "metadata": {
    "colab": {
      "provenance": [],
      "authorship_tag": "ABX9TyMlFNFhrxHNvZG6NrhQvcan",
      "include_colab_link": true
    },
    "kernelspec": {
      "name": "python3",
      "display_name": "Python 3"
    },
    "language_info": {
      "name": "python"
    }
  },
  "cells": [
    {
      "cell_type": "markdown",
      "metadata": {
        "id": "view-in-github",
        "colab_type": "text"
      },
      "source": [
        "<a href=\"https://colab.research.google.com/github/Glutt0n/New-Repository/blob/main/Project_1_Part_1.ipynb\" target=\"_parent\"><img src=\"https://colab.research.google.com/assets/colab-badge.svg\" alt=\"Open In Colab\"/></a>"
      ]
    },
    {
      "cell_type": "markdown",
      "source": [
        "# Project 1 - Part 1"
      ],
      "metadata": {
        "id": "lti7UreIbWHe"
      }
    },
    {
      "cell_type": "markdown",
      "source": [
        "Leard Russell"
      ],
      "metadata": {
        "id": "Vbm78GklcE_r"
      }
    },
    {
      "cell_type": "markdown",
      "source": [
        "## Loading Data"
      ],
      "metadata": {
        "id": "HyDy7TnebWL4"
      }
    },
    {
      "cell_type": "code",
      "source": [],
      "metadata": {
        "id": "CIa7RDvfcKk7"
      },
      "execution_count": null,
      "outputs": []
    },
    {
      "cell_type": "markdown",
      "source": [
        " ## Data Cleaning\n"
      ],
      "metadata": {
        "id": "YvnTo-sfbWQO"
      }
    },
    {
      "cell_type": "code",
      "source": [],
      "metadata": {
        "id": "fUX52cS7cLU5"
      },
      "execution_count": null,
      "outputs": []
    },
    {
      "cell_type": "markdown",
      "source": [
        " ## Exploratory Visuals \n"
      ],
      "metadata": {
        "id": "N6nLST-WbWUx"
      }
    },
    {
      "cell_type": "code",
      "source": [],
      "metadata": {
        "id": "sO1bMOwzcMSN"
      },
      "execution_count": null,
      "outputs": []
    },
    {
      "cell_type": "markdown",
      "source": [
        " ## Explanatory Visuals "
      ],
      "metadata": {
        "id": "yOn8G_DvbYRL"
      }
    },
    {
      "cell_type": "code",
      "source": [],
      "metadata": {
        "id": "8Qwhcl5acM1R"
      },
      "execution_count": null,
      "outputs": []
    }
  ]
}